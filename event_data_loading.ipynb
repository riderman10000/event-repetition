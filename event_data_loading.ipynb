{
 "cells": [
  {
   "cell_type": "code",
   "execution_count": 2,
   "metadata": {},
   "outputs": [],
   "source": [
    "# import aedat\n",
    "import os \n",
    "import pandas as pd \n",
    "# import aer \n",
    "import torch \n",
    "import spikingjelly.datasets as sjds "
   ]
  },
  {
   "cell_type": "code",
   "execution_count": 3,
   "metadata": {},
   "outputs": [],
   "source": [
    "path_to_dataset = \"/home/rlwagun/Files/datasets/DVS_Gesture_dataset/DvsGesture\"\n",
    "\n",
    "\n",
    "gesture_mapping_file = os.path.join(path_to_dataset, \"gesture_mapping.csv\")\n",
    "# gesture mapping label and action # starts from 1 to 11 \n",
    "gesture_mapping = pd.read_csv(gesture_mapping_file)\n",
    "gesture_mapping_dict = dict(zip(gesture_mapping['label'], gesture_mapping['action']))\n",
    "\n",
    "user_name = \"user01_fluorescent\"\n",
    "user_dvs_data = os.path.join(path_to_dataset, user_name + \".aedat\")\n",
    "user_dvs_labels = os.path.join(path_to_dataset, user_name + \"_labels.csv\")\n",
    "# decoder = aedat.Decoder(dvs_data)\n",
    "# print(decoder.id_to_stream())\n",
    "\n",
    "raw_events = sjds.load_aedat_v3(user_dvs_data)"
   ]
  },
  {
   "cell_type": "code",
   "execution_count": 30,
   "metadata": {},
   "outputs": [
    {
     "data": {
      "text/html": [
       "<div>\n",
       "<style scoped>\n",
       "    .dataframe tbody tr th:only-of-type {\n",
       "        vertical-align: middle;\n",
       "    }\n",
       "\n",
       "    .dataframe tbody tr th {\n",
       "        vertical-align: top;\n",
       "    }\n",
       "\n",
       "    .dataframe thead th {\n",
       "        text-align: right;\n",
       "    }\n",
       "</style>\n",
       "<table border=\"1\" class=\"dataframe\">\n",
       "  <thead>\n",
       "    <tr style=\"text-align: right;\">\n",
       "      <th></th>\n",
       "      <th>action</th>\n",
       "      <th>label</th>\n",
       "    </tr>\n",
       "  </thead>\n",
       "  <tbody>\n",
       "    <tr>\n",
       "      <th>0</th>\n",
       "      <td>hand_clapping</td>\n",
       "      <td>1</td>\n",
       "    </tr>\n",
       "    <tr>\n",
       "      <th>1</th>\n",
       "      <td>right_hand_wave</td>\n",
       "      <td>2</td>\n",
       "    </tr>\n",
       "    <tr>\n",
       "      <th>2</th>\n",
       "      <td>left_hand_wave</td>\n",
       "      <td>3</td>\n",
       "    </tr>\n",
       "    <tr>\n",
       "      <th>3</th>\n",
       "      <td>right_arm_clockwise</td>\n",
       "      <td>4</td>\n",
       "    </tr>\n",
       "    <tr>\n",
       "      <th>4</th>\n",
       "      <td>right_arm_counter_clockwise</td>\n",
       "      <td>5</td>\n",
       "    </tr>\n",
       "    <tr>\n",
       "      <th>5</th>\n",
       "      <td>left_arm_clockwise</td>\n",
       "      <td>6</td>\n",
       "    </tr>\n",
       "    <tr>\n",
       "      <th>6</th>\n",
       "      <td>left_arm_counter_clockwise</td>\n",
       "      <td>7</td>\n",
       "    </tr>\n",
       "    <tr>\n",
       "      <th>7</th>\n",
       "      <td>arm_roll</td>\n",
       "      <td>8</td>\n",
       "    </tr>\n",
       "    <tr>\n",
       "      <th>8</th>\n",
       "      <td>air_drums</td>\n",
       "      <td>9</td>\n",
       "    </tr>\n",
       "    <tr>\n",
       "      <th>9</th>\n",
       "      <td>air_guitar</td>\n",
       "      <td>10</td>\n",
       "    </tr>\n",
       "    <tr>\n",
       "      <th>10</th>\n",
       "      <td>other_gestures</td>\n",
       "      <td>11</td>\n",
       "    </tr>\n",
       "  </tbody>\n",
       "</table>\n",
       "</div>"
      ],
      "text/plain": [
       "                          action  label\n",
       "0                  hand_clapping      1\n",
       "1                right_hand_wave      2\n",
       "2                 left_hand_wave      3\n",
       "3           right_arm_clockwise       4\n",
       "4   right_arm_counter_clockwise       5\n",
       "5            left_arm_clockwise       6\n",
       "6    left_arm_counter_clockwise       7\n",
       "7                       arm_roll      8\n",
       "8                      air_drums      9\n",
       "9                     air_guitar     10\n",
       "10                other_gestures     11"
      ]
     },
     "execution_count": 30,
     "metadata": {},
     "output_type": "execute_result"
    }
   ],
   "source": [
    "gesture_mapping"
   ]
  },
  {
   "cell_type": "code",
   "execution_count": 4,
   "metadata": {},
   "outputs": [],
   "source": [
    "labels = pd.read_csv(user_dvs_labels)\n",
    "# setting the event as the class index \n",
    "labels.set_index(\"class\", inplace=True) \n"
   ]
  },
  {
   "cell_type": "code",
   "execution_count": 5,
   "metadata": {},
   "outputs": [],
   "source": [
    "import glob\n",
    "import numpy as np \n",
    "paths = glob.glob(path_to_dataset + \"/*_labels.csv\")"
   ]
  },
  {
   "cell_type": "code",
   "execution_count": 6,
   "metadata": {},
   "outputs": [
    {
     "data": {
      "text/plain": [
       "[7790918, 7790918, 7790918, 7790918]"
      ]
     },
     "execution_count": 6,
     "metadata": {},
     "output_type": "execute_result"
    }
   ],
   "source": [
    "list(map(lambda x: len(raw_events[x]), ['t', 'x', 'y', 'p'] ))"
   ]
  },
  {
   "cell_type": "code",
   "execution_count": 7,
   "metadata": {},
   "outputs": [],
   "source": [
    "events = [] \n",
    "\n",
    "for t, x, y, p in zip(raw_events['t'], raw_events['x'], raw_events['y'], raw_events['p']):\n",
    "    events.append([t, x, y])\n",
    "\n",
    "events = np.array(events) "
   ]
  },
  {
   "cell_type": "code",
   "execution_count": 8,
   "metadata": {},
   "outputs": [],
   "source": [
    "df = pd.DataFrame(raw_events)"
   ]
  },
  {
   "cell_type": "code",
   "execution_count": 31,
   "metadata": {},
   "outputs": [
    {
     "data": {
      "text/html": [
       "<div>\n",
       "<style scoped>\n",
       "    .dataframe tbody tr th:only-of-type {\n",
       "        vertical-align: middle;\n",
       "    }\n",
       "\n",
       "    .dataframe tbody tr th {\n",
       "        vertical-align: top;\n",
       "    }\n",
       "\n",
       "    .dataframe thead th {\n",
       "        text-align: right;\n",
       "    }\n",
       "</style>\n",
       "<table border=\"1\" class=\"dataframe\">\n",
       "  <thead>\n",
       "    <tr style=\"text-align: right;\">\n",
       "      <th></th>\n",
       "      <th>startTime_usec</th>\n",
       "      <th>endTime_usec</th>\n",
       "    </tr>\n",
       "    <tr>\n",
       "      <th>class</th>\n",
       "      <th></th>\n",
       "      <th></th>\n",
       "    </tr>\n",
       "  </thead>\n",
       "  <tbody>\n",
       "    <tr>\n",
       "      <th>1</th>\n",
       "      <td>80048239</td>\n",
       "      <td>85092709</td>\n",
       "    </tr>\n",
       "    <tr>\n",
       "      <th>2</th>\n",
       "      <td>89431170</td>\n",
       "      <td>95231007</td>\n",
       "    </tr>\n",
       "    <tr>\n",
       "      <th>3</th>\n",
       "      <td>95938861</td>\n",
       "      <td>103200075</td>\n",
       "    </tr>\n",
       "    <tr>\n",
       "      <th>4</th>\n",
       "      <td>114845417</td>\n",
       "      <td>123499505</td>\n",
       "    </tr>\n",
       "    <tr>\n",
       "      <th>5</th>\n",
       "      <td>124344363</td>\n",
       "      <td>131742581</td>\n",
       "    </tr>\n",
       "    <tr>\n",
       "      <th>6</th>\n",
       "      <td>133660637</td>\n",
       "      <td>141880879</td>\n",
       "    </tr>\n",
       "    <tr>\n",
       "      <th>7</th>\n",
       "      <td>142360393</td>\n",
       "      <td>149138239</td>\n",
       "    </tr>\n",
       "    <tr>\n",
       "      <th>8</th>\n",
       "      <td>150717639</td>\n",
       "      <td>157362334</td>\n",
       "    </tr>\n",
       "    <tr>\n",
       "      <th>8</th>\n",
       "      <td>157773346</td>\n",
       "      <td>164029864</td>\n",
       "    </tr>\n",
       "    <tr>\n",
       "      <th>9</th>\n",
       "      <td>165057394</td>\n",
       "      <td>171518239</td>\n",
       "    </tr>\n",
       "    <tr>\n",
       "      <th>10</th>\n",
       "      <td>172843790</td>\n",
       "      <td>179442817</td>\n",
       "    </tr>\n",
       "    <tr>\n",
       "      <th>11</th>\n",
       "      <td>180675853</td>\n",
       "      <td>187389051</td>\n",
       "    </tr>\n",
       "  </tbody>\n",
       "</table>\n",
       "</div>"
      ],
      "text/plain": [
       "       startTime_usec  endTime_usec\n",
       "class                              \n",
       "1            80048239      85092709\n",
       "2            89431170      95231007\n",
       "3            95938861     103200075\n",
       "4           114845417     123499505\n",
       "5           124344363     131742581\n",
       "6           133660637     141880879\n",
       "7           142360393     149138239\n",
       "8           150717639     157362334\n",
       "8           157773346     164029864\n",
       "9           165057394     171518239\n",
       "10          172843790     179442817\n",
       "11          180675853     187389051"
      ]
     },
     "execution_count": 31,
     "metadata": {},
     "output_type": "execute_result"
    }
   ],
   "source": [
    "labels"
   ]
  },
  {
   "cell_type": "code",
   "execution_count": 36,
   "metadata": {},
   "outputs": [],
   "source": [
    "user_class = 4\n",
    "filtered_df = df.loc[(df['t'] >= labels.iloc[user_class][\"startTime_usec\"]) & (df['t'] <= labels.iloc[user_class][\"endTime_usec\"])]"
   ]
  },
  {
   "cell_type": "code",
   "execution_count": null,
   "metadata": {},
   "outputs": [],
   "source": []
  },
  {
   "cell_type": "code",
   "execution_count": 37,
   "metadata": {},
   "outputs": [
    {
     "data": {
      "text/html": [
       "<div>\n",
       "<style scoped>\n",
       "    .dataframe tbody tr th:only-of-type {\n",
       "        vertical-align: middle;\n",
       "    }\n",
       "\n",
       "    .dataframe tbody tr th {\n",
       "        vertical-align: top;\n",
       "    }\n",
       "\n",
       "    .dataframe thead th {\n",
       "        text-align: right;\n",
       "    }\n",
       "</style>\n",
       "<table border=\"1\" class=\"dataframe\">\n",
       "  <thead>\n",
       "    <tr style=\"text-align: right;\">\n",
       "      <th></th>\n",
       "      <th>t</th>\n",
       "      <th>x</th>\n",
       "      <th>y</th>\n",
       "      <th>p</th>\n",
       "    </tr>\n",
       "  </thead>\n",
       "  <tbody>\n",
       "    <tr>\n",
       "      <th>2410336</th>\n",
       "      <td>124344371</td>\n",
       "      <td>78</td>\n",
       "      <td>126</td>\n",
       "      <td>1</td>\n",
       "    </tr>\n",
       "    <tr>\n",
       "      <th>2410337</th>\n",
       "      <td>124344375</td>\n",
       "      <td>56</td>\n",
       "      <td>102</td>\n",
       "      <td>0</td>\n",
       "    </tr>\n",
       "    <tr>\n",
       "      <th>2410338</th>\n",
       "      <td>124344388</td>\n",
       "      <td>46</td>\n",
       "      <td>102</td>\n",
       "      <td>1</td>\n",
       "    </tr>\n",
       "    <tr>\n",
       "      <th>2410339</th>\n",
       "      <td>124344436</td>\n",
       "      <td>52</td>\n",
       "      <td>101</td>\n",
       "      <td>0</td>\n",
       "    </tr>\n",
       "    <tr>\n",
       "      <th>2410340</th>\n",
       "      <td>124344461</td>\n",
       "      <td>55</td>\n",
       "      <td>104</td>\n",
       "      <td>1</td>\n",
       "    </tr>\n",
       "    <tr>\n",
       "      <th>...</th>\n",
       "      <td>...</td>\n",
       "      <td>...</td>\n",
       "      <td>...</td>\n",
       "      <td>...</td>\n",
       "    </tr>\n",
       "    <tr>\n",
       "      <th>3269142</th>\n",
       "      <td>131742521</td>\n",
       "      <td>40</td>\n",
       "      <td>117</td>\n",
       "      <td>1</td>\n",
       "    </tr>\n",
       "    <tr>\n",
       "      <th>3269143</th>\n",
       "      <td>131742561</td>\n",
       "      <td>117</td>\n",
       "      <td>108</td>\n",
       "      <td>0</td>\n",
       "    </tr>\n",
       "    <tr>\n",
       "      <th>3269144</th>\n",
       "      <td>131742568</td>\n",
       "      <td>48</td>\n",
       "      <td>97</td>\n",
       "      <td>1</td>\n",
       "    </tr>\n",
       "    <tr>\n",
       "      <th>3269145</th>\n",
       "      <td>131742569</td>\n",
       "      <td>32</td>\n",
       "      <td>82</td>\n",
       "      <td>1</td>\n",
       "    </tr>\n",
       "    <tr>\n",
       "      <th>3269146</th>\n",
       "      <td>131742575</td>\n",
       "      <td>29</td>\n",
       "      <td>48</td>\n",
       "      <td>1</td>\n",
       "    </tr>\n",
       "  </tbody>\n",
       "</table>\n",
       "<p>858811 rows × 4 columns</p>\n",
       "</div>"
      ],
      "text/plain": [
       "                 t    x    y  p\n",
       "2410336  124344371   78  126  1\n",
       "2410337  124344375   56  102  0\n",
       "2410338  124344388   46  102  1\n",
       "2410339  124344436   52  101  0\n",
       "2410340  124344461   55  104  1\n",
       "...            ...  ...  ... ..\n",
       "3269142  131742521   40  117  1\n",
       "3269143  131742561  117  108  0\n",
       "3269144  131742568   48   97  1\n",
       "3269145  131742569   32   82  1\n",
       "3269146  131742575   29   48  1\n",
       "\n",
       "[858811 rows x 4 columns]"
      ]
     },
     "execution_count": 37,
     "metadata": {},
     "output_type": "execute_result"
    }
   ],
   "source": [
    "filtered_df"
   ]
  },
  {
   "cell_type": "code",
   "execution_count": 38,
   "metadata": {},
   "outputs": [
    {
     "data": {
      "text/plain": [
       "array([[124344371,        78,       126],\n",
       "       [124344375,        56,       102],\n",
       "       [124344388,        46,       102],\n",
       "       ...,\n",
       "       [131742568,        48,        97],\n",
       "       [131742569,        32,        82],\n",
       "       [131742575,        29,        48]])"
      ]
     },
     "execution_count": 38,
     "metadata": {},
     "output_type": "execute_result"
    }
   ],
   "source": [
    "filtered_events = filtered_df.drop(columns=['p']).to_numpy()\n",
    "filtered_events"
   ]
  },
  {
   "cell_type": "code",
   "execution_count": 39,
   "metadata": {},
   "outputs": [],
   "source": [
    "import e2v\n",
    "import cv2 \n",
    "for frame in e2v.get_event_frame(filtered_events, \n",
    "    threshold=0.8,\n",
    "    decay=0.01,\n",
    "    image_scale=10):\n",
    "    cv2.imshow(\"test\", cv2.resize(frame, np.array(frame.shape[::-1]) * 5))\n",
    "    k = cv2.waitKey(1)\n",
    "    if k == ord('q'):\n",
    "        break \n",
    "cv2.destroyAllWindows()\n"
   ]
  },
  {
   "cell_type": "code",
   "execution_count": 84,
   "metadata": {},
   "outputs": [
    {
     "data": {
      "text/plain": [
       "(np.int64(80048239), np.int64(85092709))"
      ]
     },
     "execution_count": 84,
     "metadata": {},
     "output_type": "execute_result"
    }
   ],
   "source": [
    "labels.iloc[0][\"startTime_usec\"], labels.iloc[0][\"endTime_useca\"]\n"
   ]
  },
  {
   "cell_type": "code",
   "execution_count": 86,
   "metadata": {},
   "outputs": [],
   "source": [
    "sub_event = events[(events >= labels.iloc[0][\"startTime_usec\"]) & (events <= labels.iloc[0][\"endTime_usec\"])]"
   ]
  },
  {
   "cell_type": "code",
   "execution_count": 87,
   "metadata": {},
   "outputs": [
    {
     "data": {
      "text/plain": [
       "array([80048267, 80048277, 80048278, ..., 85092406, 85092538, 85092700])"
      ]
     },
     "execution_count": 87,
     "metadata": {},
     "output_type": "execute_result"
    }
   ],
   "source": []
  },
  {
   "cell_type": "code",
   "execution_count": null,
   "metadata": {},
   "outputs": [],
   "source": []
  },
  {
   "cell_type": "code",
   "execution_count": null,
   "metadata": {},
   "outputs": [],
   "source": []
  },
  {
   "cell_type": "code",
   "execution_count": null,
   "metadata": {},
   "outputs": [],
   "source": []
  },
  {
   "cell_type": "code",
   "execution_count": null,
   "metadata": {},
   "outputs": [],
   "source": []
  }
 ],
 "metadata": {
  "kernelspec": {
   "display_name": "snn",
   "language": "python",
   "name": "python3"
  },
  "language_info": {
   "codemirror_mode": {
    "name": "ipython",
    "version": 3
   },
   "file_extension": ".py",
   "mimetype": "text/x-python",
   "name": "python",
   "nbconvert_exporter": "python",
   "pygments_lexer": "ipython3",
   "version": "3.13.0"
  }
 },
 "nbformat": 4,
 "nbformat_minor": 2
}
