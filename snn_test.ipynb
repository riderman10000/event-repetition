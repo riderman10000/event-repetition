{
 "cells": [
  {
   "cell_type": "code",
   "execution_count": 60,
   "metadata": {},
   "outputs": [],
   "source": [
    "class NeuronIF:\n",
    "    # def __init__(self, threshold = 0.1, membrane_reset = -.5, time_step = 0.1) -> None:\n",
    "    def __init__(self, threshold = 0.75, membrane_reset = 0, time_step = 0.1) -> None:\n",
    "        self.threshold = threshold \n",
    "        self.membrane_reset = membrane_reset \n",
    "        self.time_step = time_step\n",
    "        self.membrane_potential = 0.0 \n",
    "        self.spiked = False \n",
    "        pass\n",
    "    \n",
    "    def update(self, input_current):\n",
    "        # update membrane potential based on input current \n",
    "        self.membrane_potential += input_current * self.time_step \n",
    "        \n",
    "        # check if the neuron has spiked \n",
    "        if self.membrane_potential >= self.threshold:\n",
    "            self.spiked = True \n",
    "            self.membrane_potential = self.membrane_reset\n",
    "        else:\n",
    "            self.spiked = False \n",
    "            \n",
    "        return self.spiked "
   ]
  },
  {
   "cell_type": "code",
   "execution_count": 61,
   "metadata": {},
   "outputs": [],
   "source": [
    "# define the first layer number of neurons \n",
    "first_layer_number_of_neurons = 128\n",
    "first_layer_neurons = [NeuronIF() for _ in range(first_layer_number_of_neurons)]\n"
   ]
  },
  {
   "cell_type": "code",
   "execution_count": 62,
   "metadata": {},
   "outputs": [],
   "source": [
    "import numpy as np \n",
    "import pandas as pd "
   ]
  },
  {
   "cell_type": "code",
   "execution_count": null,
   "metadata": {},
   "outputs": [],
   "source": [
    "file_path = './user02_lab.csv'\n",
    "data_df = pd.read_csv(file_path)\n",
    "data_df = data_df[['x', 'y']]\n",
    "\n",
    "data_df.head(), type(data_df), data_df['x'][0] "
   ]
  },
  {
   "cell_type": "code",
   "execution_count": 64,
   "metadata": {},
   "outputs": [],
   "source": [
    "# for row in data_df[1:].iterrows():\n",
    "#     int(row[1]['x'])\n",
    "#     first_layer_neurons[row[1]['x']].update(.5)"
   ]
  },
  {
   "cell_type": "code",
   "execution_count": null,
   "metadata": {},
   "outputs": [],
   "source": [
    "import numpy as np\n",
    "import matplotlib.pyplot as plt\n",
    "import matplotlib.animation as animation\n",
    "\n",
    "# Generate some random data for the heatmap\n",
    "data = np.array([neuron.membrane_potential for neuron in first_layer_neurons])\n",
    "data = np.reshape(data, (1, -1))\n",
    "data = np.concatenate([data]*4)\n",
    "\n",
    "fig, ax = plt.subplots()\n",
    "\n",
    "# Initialize the heatmap\n",
    "im = ax.imshow(data, cmap='hot', interpolation='nearest')\n",
    "counter = 0 \n",
    "# Function to update the heatmap for each frame\n",
    "def update(frame):\n",
    "    global counter\n",
    "    # data = np.random.rand(10, 10)\n",
    "    # im.set_data(data)\n",
    "    # return [im]\n",
    "\n",
    "    if counter == 1000:\n",
    "        exit()\n",
    "\n",
    "    first_layer_neurons[data_df.iloc[counter]['x']].update(1)\n",
    "    data = np.array([neuron.membrane_potential for neuron in first_layer_neurons])\n",
    "    data = np.reshape(data, (1, -1))\n",
    "    # im.set_data(data)\n",
    "    im = ax.imshow(data, cmap='hot', interpolation='nearest')\n",
    "    counter += 1  \n",
    "    return [im]\n",
    "\n",
    "# Create the animation\n",
    "ani = animation.FuncAnimation(fig, update, frames=1000, interval=200, blit=True)\n",
    "\n",
    "# Show the animation\n",
    "\n",
    "# FFwriter = animation.FFMpegWriter(fps=10)\n",
    "# lin_ani.save('animation.mp4', writer = FFwriter)\n",
    "ani.save(filename='heatmap_animation.gif', writer='pillow')\n",
    "plt.show()"
   ]
  },
  {
   "cell_type": "code",
   "execution_count": null,
   "metadata": {},
   "outputs": [],
   "source": [
    "data_df.shape "
   ]
  },
  {
   "cell_type": "code",
   "execution_count": null,
   "metadata": {},
   "outputs": [],
   "source": [
    "data"
   ]
  },
  {
   "cell_type": "code",
   "execution_count": null,
   "metadata": {},
   "outputs": [],
   "source": []
  },
  {
   "cell_type": "code",
   "execution_count": null,
   "metadata": {},
   "outputs": [],
   "source": [
    "import snntorch as snn\n",
    "from snntorch.spikevision import spikedata\n",
    "\n",
    "from torch.utils.data import DataLoader\n",
    "\n",
    "# create datasets\n",
    "train_ds = spikedata.DVSGesture(\"dataset/dvsgesture\", train=True)\n",
    "test_ds = spikedata.DVSGesture(\"dataset/dvs_gesture\", train=False)\n",
    "\n",
    "# create dataloaders\n",
    "train_dl = DataLoader(train_ds, shuffle=True, batch_size=64)\n",
    "test_dl = DataLoader(test_ds, shuffle=False, batch_size=64)"
   ]
  },
  {
   "cell_type": "code",
   "execution_count": null,
   "metadata": {},
   "outputs": [],
   "source": []
  }
 ],
 "metadata": {
  "kernelspec": {
   "display_name": "snn",
   "language": "python",
   "name": "python3"
  },
  "language_info": {
   "codemirror_mode": {
    "name": "ipython",
    "version": 3
   },
   "file_extension": ".py",
   "mimetype": "text/x-python",
   "name": "python",
   "nbconvert_exporter": "python",
   "pygments_lexer": "ipython3",
   "version": "3.13.0"
  }
 },
 "nbformat": 4,
 "nbformat_minor": 2
}
