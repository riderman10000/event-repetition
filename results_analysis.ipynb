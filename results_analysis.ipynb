{
 "cells": [
  {
   "cell_type": "code",
   "execution_count": 62,
   "metadata": {},
   "outputs": [],
   "source": [
    "import numpy as np\n",
    "import pandas as pd "
   ]
  },
  {
   "cell_type": "code",
   "execution_count": 81,
   "metadata": {},
   "outputs": [],
   "source": [
    "infered_data = pd.read_csv('./results/stride-man.csv')\n",
    "original_data = pd.read_csv('./event_csv/split_data/event_csv_counts.csv')"
   ]
  },
  {
   "cell_type": "code",
   "execution_count": 82,
   "metadata": {},
   "outputs": [
    {
     "data": {
      "text/plain": [
       "(     class               condition  count\n",
       " 0   class2      user02_fluorescent     14\n",
       " 1   class2  user02_fluorescent_led     11\n",
       " 2   class2              user02_lab      9\n",
       " 3   class2              user02_led     10\n",
       " 4   class2          user02_natural     17\n",
       " 5   class3      user02_fluorescent     13\n",
       " 6   class3  user02_fluorescent_led     13\n",
       " 7   class3              user02_lab     10\n",
       " 8   class3              user02_led     15\n",
       " 9   class3          user02_natural     16\n",
       " 10  class4      user02_fluorescent      8\n",
       " 11  class4  user02_fluorescent_led      8\n",
       " 12  class4              user02_lab      8\n",
       " 13  class4              user02_led      6\n",
       " 14  class4          user02_natural     10\n",
       " 15  class5      user02_fluorescent      9\n",
       " 16  class5  user02_fluorescent_led      6\n",
       " 17  class5              user02_lab      9\n",
       " 18  class5              user02_led      6\n",
       " 19  class5          user02_natural      8\n",
       " 20  class6      user02_fluorescent      9\n",
       " 21  class6  user02_fluorescent_led      6\n",
       " 22  class6              user02_lab      9\n",
       " 23  class6              user02_led      9\n",
       " 24  class6          user02_natural      8\n",
       " 25  class7      user02_fluorescent      5\n",
       " 26  class7  user02_fluorescent_led      7\n",
       " 27  class7              user02_lab      9\n",
       " 28  class7              user02_led      6\n",
       " 29  class7          user02_natural      8,\n",
       "      class               condition  count\n",
       " 0   class2      user02_fluorescent     15\n",
       " 1   class2  user02_fluorescent_led     12\n",
       " 2   class2              user02_lab     13\n",
       " 3   class2              user02_led     12\n",
       " 4   class2          user02_natural     17\n",
       " 5   class3      user02_fluorescent     12\n",
       " 6   class3  user02_fluorescent_led     13\n",
       " 7   class3              user02_lab     13\n",
       " 8   class3              user02_led     15\n",
       " 9   class3          user02_natural     15\n",
       " 10  class4      user02_fluorescent      9\n",
       " 11  class4  user02_fluorescent_led      9\n",
       " 12  class4              user02_lab     10\n",
       " 13  class4              user02_led      8\n",
       " 14  class4          user02_natural     10\n",
       " 15  class5      user02_fluorescent     10\n",
       " 16  class5  user02_fluorescent_led      7\n",
       " 17  class5              user02_lab      9\n",
       " 18  class5              user02_led      8\n",
       " 19  class5          user02_natural      9\n",
       " 20  class6      user02_fluorescent     10\n",
       " 21  class6  user02_fluorescent_led      8\n",
       " 22  class6              user02_lab     10\n",
       " 23  class6              user02_led      9\n",
       " 24  class6          user02_natural      9\n",
       " 25  class7      user02_fluorescent      7\n",
       " 26  class7  user02_fluorescent_led      8\n",
       " 27  class7              user02_lab      9\n",
       " 28  class7              user02_led      8\n",
       " 29  class7          user02_natural      9)"
      ]
     },
     "execution_count": 82,
     "metadata": {},
     "output_type": "execute_result"
    }
   ],
   "source": [
    "infered_data.sort_values(['class', 'condition']), original_data.sort_values(['class', 'condition'])   "
   ]
  },
  {
   "cell_type": "code",
   "execution_count": 83,
   "metadata": {},
   "outputs": [],
   "source": [
    "# Mean absolute error, an average absolute error\n",
    "def MAE(pred_count,real_count):\n",
    "    return np.mean(np.abs(real_count - pred_count)/real_count)\n",
    "# OffBy-One (OBO) count error.\n",
    "def OBO(pred_count,real_count):\n",
    "    # Predictive value and real value error\n",
    "    temp = np.abs(real_count-pred_count)\n",
    "    # The proportion of the prediction value of the error is less than the same\n",
    "    return temp[temp<=1].shape[0]/temp.shape[0]"
   ]
  },
  {
   "cell_type": "code",
   "execution_count": 84,
   "metadata": {},
   "outputs": [
    {
     "data": {
      "text/plain": [
       "(np.float64(0.12047517297517298), 0.7)"
      ]
     },
     "execution_count": 84,
     "metadata": {},
     "output_type": "execute_result"
    }
   ],
   "source": [
    "predicted_count = infered_data['count'].to_numpy()\n",
    "real_count = original_data['count'].to_numpy()\n",
    "MAE(predicted_count,real_count), OBO(predicted_count,real_count)"
   ]
  },
  {
   "cell_type": "code",
   "execution_count": 85,
   "metadata": {},
   "outputs": [
    {
     "data": {
      "text/plain": [
       "0     14\n",
       "5     13\n",
       "10     8\n",
       "15     9\n",
       "20     9\n",
       "25     5\n",
       "Name: count, dtype: int64"
      ]
     },
     "execution_count": 85,
     "metadata": {},
     "output_type": "execute_result"
    }
   ],
   "source": [
    "infered_data[infered_data['condition'] == 'user02_fluorescent']['count']"
   ]
  },
  {
   "cell_type": "code",
   "execution_count": null,
   "metadata": {},
   "outputs": [],
   "source": []
  },
  {
   "cell_type": "code",
   "execution_count": 86,
   "metadata": {},
   "outputs": [
    {
     "name": "stdout",
     "output_type": "stream",
     "text": [
      "user02_fluorescent MAE: 0.12447089947089945, OBO: 0.8333333333333334\n",
      "user02_fluorescent_led MAE: 0.1187169312169312, OBO: 0.8333333333333334\n",
      "user02_lab MAE: 0.13974358974358975, OBO: 0.5\n",
      "user02_led MAE: 0.15277777777777776, OBO: 0.3333333333333333\n",
      "user02_natural MAE: 0.06666666666666667, OBO: 1.0\n"
     ]
    }
   ],
   "source": [
    "event_users = [\n",
    "        \"user02_fluorescent\",\n",
    "        \"user02_fluorescent_led\",\n",
    "        \"user02_lab\",\n",
    "        \"user02_led\",\n",
    "        \"user02_natural\"\n",
    "    ]\n",
    "\n",
    "for condition in event_users:\n",
    "    predicted_count = infered_data[infered_data['condition'] == condition]['count'].to_numpy()\n",
    "    real_count = original_data[original_data['condition'] == condition]['count'].to_numpy()\n",
    "    mae, obo = MAE(predicted_count,real_count), OBO(predicted_count,real_count)\n",
    "    print(f'{condition} MAE: {mae}, OBO: {obo}')"
   ]
  },
  {
   "cell_type": "code",
   "execution_count": 72,
   "metadata": {},
   "outputs": [
    {
     "data": {
      "text/plain": [
       "0     0\n",
       "1    -3\n",
       "2    -5\n",
       "3    -4\n",
       "4     3\n",
       "5    -1\n",
       "6    -1\n",
       "7    -4\n",
       "8     1\n",
       "9     2\n",
       "10   -6\n",
       "11   -6\n",
       "12   -6\n",
       "13   -8\n",
       "14   -4\n",
       "15   -5\n",
       "16   -8\n",
       "17   -5\n",
       "18   -8\n",
       "19   -6\n",
       "20   -5\n",
       "21   -8\n",
       "22   -5\n",
       "23   -5\n",
       "24   -6\n",
       "25   -9\n",
       "26   -7\n",
       "27   -5\n",
       "28   -8\n",
       "29   -6\n",
       "Name: count, dtype: int64"
      ]
     },
     "execution_count": 72,
     "metadata": {},
     "output_type": "execute_result"
    }
   ],
   "source": [
    "infered_data['count'] - infered_data['count'][0]"
   ]
  },
  {
   "cell_type": "code",
   "execution_count": null,
   "metadata": {},
   "outputs": [],
   "source": []
  },
  {
   "cell_type": "code",
   "execution_count": null,
   "metadata": {},
   "outputs": [],
   "source": []
  },
  {
   "cell_type": "code",
   "execution_count": null,
   "metadata": {},
   "outputs": [],
   "source": []
  },
  {
   "cell_type": "code",
   "execution_count": null,
   "metadata": {},
   "outputs": [],
   "source": []
  },
  {
   "cell_type": "code",
   "execution_count": 73,
   "metadata": {},
   "outputs": [],
   "source": [
    "\n",
    "# True data of the original data\n",
    "nature_real_count = np.load('./npy_file/nature_data_real_count.npy')\n",
    "# Artificial data real count tag\n",
    "artificial_real_count = np.load('./npy_file/artificial_data_real_count.npy')\n",
    "\n",
    "# Repnet network's predictive label on original data\n",
    "repnet_nature_pred_count = np.load('./npy_file/repnet_nature_data_real_count.npy')\n",
    "# Repnet network's prediction label on artificial synthetic data\n",
    "repnet_artificial_pred_count = np.load('./npy_file/repnet_artificial_data_real_count.npy')"
   ]
  },
  {
   "cell_type": "code",
   "execution_count": 74,
   "metadata": {},
   "outputs": [
    {
     "data": {
      "text/plain": [
       "(array([15, 12, 13, 12, 17,  9,  9, 10,  8, 10, 10,  7,  9,  8,  9, 10,  8,\n",
       "        10,  9,  9,  7,  8,  9,  8,  9], dtype=int32),\n",
       " array([20, 17,  7, 13, 17, 15,  8, 18, 14, 15, 12,  9, 12,  6, 10, 12, 10,\n",
       "        10, 12, 14,  7, 10,  9,  8,  8], dtype=int32))"
      ]
     },
     "execution_count": 74,
     "metadata": {},
     "output_type": "execute_result"
    }
   ],
   "source": [
    "nature_real_count, repnet_nature_pred_count"
   ]
  },
  {
   "cell_type": "code",
   "execution_count": 75,
   "metadata": {},
   "outputs": [
    {
     "data": {
      "text/plain": [
       "array([ 1, 12, 17,  3, 13, 13, 18, 18,  7,  7,  7,  1, 13, 13, 18, 13,  3,\n",
       "       12, 17,  7,  7,  7], dtype=int32)"
      ]
     },
     "execution_count": 75,
     "metadata": {},
     "output_type": "execute_result"
    }
   ],
   "source": [
    "artificial_real_count"
   ]
  },
  {
   "cell_type": "code",
   "execution_count": 79,
   "metadata": {},
   "outputs": [
    {
     "data": {
      "text/plain": [
       "(np.float64(0.2801123321123321), 0.36)"
      ]
     },
     "execution_count": 79,
     "metadata": {},
     "output_type": "execute_result"
    }
   ],
   "source": [
    "predicted_count = repnet_nature_pred_count\n",
    "real_count = nature_real_count\n",
    "MAE(predicted_count,real_count), OBO(predicted_count,real_count)"
   ]
  },
  {
   "cell_type": "code",
   "execution_count": null,
   "metadata": {},
   "outputs": [
    {
     "name": "stdout",
     "output_type": "stream",
     "text": [
      "user02_fluorescent MAE: 0.27999999999999997, OBO: 0.2\n",
      "user02_fluorescent_led MAE: 0.2626984126984127, OBO: 0.2\n",
      "user02_lab MAE: 0.31897435897435894, OBO: 0.4\n",
      "user02_led MAE: 0.2833333333333333, OBO: 0.4\n",
      "user02_natural MAE: 0.2555555555555556, OBO: 0.6\n"
     ]
    }
   ],
   "source": [
    "event_users = [\n",
    "        \"user02_fluorescent\",\n",
    "        \"user02_fluorescent_led\",\n",
    "        \"user02_lab\",\n",
    "        \"user02_led\",\n",
    "        \"user02_natural\"\n",
    "    ]\n",
    "\n",
    "predicted_count_list = [] \n",
    "real_count_list = [] \n",
    "for idx, event_user in enumerate(event_users):\n",
    "    predicted_count_list = [\n",
    "        value for index, value in enumerate(repnet_nature_pred_count) if((index % 5) == idx)]\n",
    "    real_count_list = [\n",
    "        value for index, value in enumerate(nature_real_count) if((index % 5) == idx)]\n",
    "    \n",
    "    predicted_count = np.array(predicted_count_list)\n",
    "    real_count = np.array(real_count_list)  \n",
    "    mae, obo = MAE(predicted_count,real_count), OBO(predicted_count,real_count)\n",
    "    print(f'{event_user} MAE: {mae}, OBO: {obo}')\n",
    "    \n",
    "    real_count = artificial_real_count[idx]\n",
    "    mae, obo = MAE(predicted_count,real_count), OBO(predicted_count,real_count)\n",
    "    print(f'{event_user} MAE: {mae}, OBO: {obo}')"
   ]
  },
  {
   "cell_type": "code",
   "execution_count": null,
   "metadata": {},
   "outputs": [],
   "source": []
  },
  {
   "cell_type": "code",
   "execution_count": null,
   "metadata": {},
   "outputs": [],
   "source": []
  },
  {
   "cell_type": "code",
   "execution_count": null,
   "metadata": {},
   "outputs": [],
   "source": []
  },
  {
   "cell_type": "code",
   "execution_count": 10,
   "metadata": {},
   "outputs": [
    {
     "data": {
      "text/plain": [
       "['./event_csv/split_data/artificial/a.csv',\n",
       " './event_csv/split_data/artificial/a12.csv',\n",
       " './event_csv/split_data/artificial/a17.csv',\n",
       " './event_csv/split_data/artificial/a3.csv',\n",
       " './event_csv/split_data/artificial/a3_b13.csv',\n",
       " './event_csv/split_data/artificial/a3_b13_a3.csv',\n",
       " './event_csv/split_data/artificial/a3_b18.csv',\n",
       " './event_csv/split_data/artificial/a3_b18_a3.csv',\n",
       " './event_csv/split_data/artificial/a3_b7.csv',\n",
       " './event_csv/split_data/artificial/a7.csv',\n",
       " './event_csv/split_data/artificial/a_b7_a.csv',\n",
       " './event_csv/split_data/artificial/b.csv',\n",
       " './event_csv/split_data/artificial/b13.csv',\n",
       " './event_csv/split_data/artificial/b13_a3.csv',\n",
       " './event_csv/split_data/artificial/b18.csv',\n",
       " './event_csv/split_data/artificial/b18_a3.csv',\n",
       " './event_csv/split_data/artificial/b3.csv',\n",
       " './event_csv/split_data/artificial/b3_a12_b3.csv',\n",
       " './event_csv/split_data/artificial/b3_a17_b3.csv',\n",
       " './event_csv/split_data/artificial/b7.csv',\n",
       " './event_csv/split_data/artificial/b7_a3.csv',\n",
       " './event_csv/split_data/artificial/b_a7_b.csv']"
      ]
     },
     "execution_count": 10,
     "metadata": {},
     "output_type": "execute_result"
    }
   ],
   "source": [
    "import glob \n",
    "sorted(glob.glob('./event_csv/split_data/artificial/*.csv'))"
   ]
  },
  {
   "cell_type": "code",
   "execution_count": null,
   "metadata": {},
   "outputs": [],
   "source": []
  }
 ],
 "metadata": {
  "kernelspec": {
   "display_name": "repnet",
   "language": "python",
   "name": "python3"
  },
  "language_info": {
   "codemirror_mode": {
    "name": "ipython",
    "version": 3
   },
   "file_extension": ".py",
   "mimetype": "text/x-python",
   "name": "python",
   "nbconvert_exporter": "python",
   "pygments_lexer": "ipython3",
   "version": "3.9.20"
  }
 },
 "nbformat": 4,
 "nbformat_minor": 2
}
